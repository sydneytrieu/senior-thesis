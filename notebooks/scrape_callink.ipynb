{
 "cells": [
  {
   "cell_type": "code",
   "execution_count": null,
   "metadata": {},
   "outputs": [],
   "source": [
    "import re\n",
    "import pandas as pd\n",
    "import numpy as np\n",
    "import pickle\n",
    "import selenium\n",
    "from selenium import webdriver\n",
    "import time"
   ]
  },
  {
   "cell_type": "code",
   "execution_count": null,
   "metadata": {},
   "outputs": [],
   "source": [
    "DRIVER_PATH = 'chromedriver.exe'\n",
    "driver = webdriver.Chrome(executable_path=DRIVER_PATH)\n",
    "driver.implicitly_wait(10)\n",
    "driver.get('https://callink.berkeley.edu/organizations')\n",
    "\n",
    "# Loads all organizations on CalLink onto the page.\n",
    "load_page = driver.find_element_by_xpath('//button[last()]')\n",
    "\n",
    "while True:\n",
    "    try:\n",
    "        time.sleep(0.25)\n",
    "        load_page.click()\n",
    "    except selenium.common.exceptions.StaleElementReferenceException:\n",
    "        break\n",
    "\n",
    "# Extracts each organization's URL from the main page.\n",
    "urls = []\n",
    "\n",
    "for i in np.arange(1, 1414):\n",
    "    href_path = '//*[@id=\"react-app\"]/div/div/div/div[2]/div/div[2]/div/div/div/div/div[' + str(i) + ']/a'\n",
    "    url = driver.find_element_by_xpath(href_path).get_attribute('href')\n",
    "    urls.append(url)\n",
    "\n",
    "# Saves urls as a list for future use.\n",
    "with open('outfile', 'wb') as fp:\n",
    "    pickle.dump(urls, fp)"
   ]
  },
  {
   "cell_type": "code",
   "execution_count": null,
   "metadata": {},
   "outputs": [],
   "source": [
    "# Loads formerly compiled list of urls.\n",
    "with open('outfile', 'rb') as fp:\n",
    "    urls = pickle.load(fp)\n",
    "\n",
    "# Extracts the organization's name and designation from each URL.\n",
    "org_names = []\n",
    "designations = []\n",
    "\n",
    "for u in urls:\n",
    "    driver.get(u)\n",
    "\n",
    "    name_path = '//*[@role=\"main\"]/div/div/div/div/div/div[1]'\n",
    "    name = driver.find_element_by_xpath(name_path).text\n",
    "    org_names.append(name)\n",
    "\n",
    "    if name == 'AAVP Grants':\n",
    "        desig_path = '//*[@role=\"main\"]/div/div/div/div/div/div[5]/div/div[2]/div/div/div[2]/div'\n",
    "        desig = driver.find_element_by_xpath(desig_path).text\n",
    "    else:\n",
    "        try:\n",
    "            desig_path = '//*[@role=\"main\"]/div/div/div/div/div/div[5]/div/div[2]/div/div/div[2]/div'\n",
    "            desig = driver.find_element_by_xpath(desig_path).text\n",
    "        except selenium.common.exceptions.NoSuchElementException:\n",
    "            desig_path = '//*[@role=\"main\"]/div/div/div/div/div/div[4]/div/div[2]/div/div/div[2]/div'\n",
    "            desig = driver.find_element_by_xpath(desig_path).text\n",
    "\n",
    "# Account for formatting edge case.\n",
    "    if 'LEAD Center Category' in desig:\n",
    "        desig = re.search(r'LEAD Center Category.*: (.*)( -|-)', desig)[1]\n",
    "\n",
    "    designations.append(desig)"
   ]
  },
  {
   "cell_type": "code",
   "execution_count": null,
   "metadata": {},
   "outputs": [],
   "source": [
    "# Create and save the organization names and designations as a DataFrame.\n",
    "data = {'Organization': org_names, 'Designation': designations}\n",
    "df = pd.DataFrame(data)\n",
    "df.to_csv('data\\\\callink_data.txt')"
   ]
  }
 ],
 "metadata": {
  "kernelspec": {
   "display_name": "Python 3",
   "language": "python",
   "name": "python3"
  },
  "language_info": {
   "codemirror_mode": {
    "name": "ipython",
    "version": 3
   },
   "file_extension": ".py",
   "mimetype": "text/x-python",
   "name": "python",
   "nbconvert_exporter": "python",
   "pygments_lexer": "ipython3",
   "version": "3.7.6"
  }
 },
 "nbformat": 4,
 "nbformat_minor": 4
}
