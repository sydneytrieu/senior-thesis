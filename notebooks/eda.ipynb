{
 "cells": [
  {
   "cell_type": "code",
   "execution_count": null,
   "metadata": {},
   "outputs": [],
   "source": [
    "import pandas as pd\n",
    "import numpy as np\n",
    "import seaborn as sns\n",
    "import matplotlib.pyplot as plt\n",
    "\n",
    "from sklearn.cluster import KMeans\n",
    "from sklearn.metrics import silhouette_score"
   ]
  },
  {
   "cell_type": "code",
   "execution_count": null,
   "metadata": {},
   "outputs": [],
   "source": [
    "rso_data = pd.read_csv('C:\\\\Users\\\\scher\\\\school\\\\senior-thesis\\\\data\\\\rso_data.txt', index_col=0).drop(columns='Type')"
   ]
  },
  {
   "cell_type": "markdown",
   "metadata": {},
   "source": [
    "# General Visualizations"
   ]
  },
  {
   "cell_type": "code",
   "execution_count": null,
   "metadata": {},
   "outputs": [],
   "source": [
    "all_allocs = rso_data.groupby('Year').sum().reset_index()\n",
    "all_rsos = rso_data.groupby('Year').count().reset_index()\n",
    "holistic = pd.DataFrame([all_allocs['Year'], all_rsos['Organization'], all_allocs['Allocation']]).transpose()\n",
    "\n",
    "holistic = holistic.astype({'Year': 'int32', 'Organization': 'int32'})\n",
    "\n",
    "holistic['Avg per club'] = (holistic['Allocation'] / holistic['Organization']).apply(round, args=(2,))\n",
    "holistic\n",
    "\n",
    "plt.title('Total Allocations to RSOs by Year')\n",
    "sns.lineplot(x='Year', y='Allocation', data=holistic)"
   ]
  },
  {
   "cell_type": "code",
   "execution_count": null,
   "metadata": {},
   "outputs": [],
   "source": [
    "bridges = ['bridges Multicultural Resource Center',\n",
    "            'Indigenous and Native Coalition (INC) Recruitment and Retention Center',\n",
    "            'Middle Eastern North African Recruitment and Retention Center',\n",
    "            'Mixed Student Union',\n",
    "            'Pilipinx Academic Student Services',\n",
    "            'Raíces Recruitment and Retention Center',\n",
    "            'REACH! Asian Pacific American Recruitment and Retention Center']\n",
    "\n",
    "bridges_data = rso_data[rso_data['Organization'].isin(bridges)]\n",
    "bridges_hol = bridges_data.groupby('Year').sum().reset_index()[['Year', 'Allocation']]\n",
    "\n",
    "bridges_hol\n",
    "# bridges_data[bridges_data['Year'] == 2018]\n",
    "# bridges_data.sort_values(by=['Organization', 'Year'])"
   ]
  },
  {
   "cell_type": "code",
   "execution_count": null,
   "metadata": {},
   "outputs": [],
   "source": [
    "counts = pd.DataFrame(rso_data.groupby(['Year', 'Type']).size()).reset_index()\n",
    "counts = counts.rename(columns={0: 'Count'})\n",
    "\n",
    "plt.title('Number of RSOs by Type')\n",
    "sns.lineplot(x='Year', y='Count', hue='Type', data=counts)"
   ]
  },
  {
   "cell_type": "code",
   "execution_count": null,
   "metadata": {},
   "outputs": [],
   "source": [
    "total = counts.groupby('Year').sum()\n",
    "props = counts.copy(deep=True).rename(columns={'Count': 'Proportion'})\n",
    "rso_prop = []\n",
    "\n",
    "for year in total.index:\n",
    "    idx = counts[counts['Year'] == year].index\n",
    "    total_count = total.loc[year, 'Count']\n",
    "\n",
    "    for i in idx:\n",
    "        rso_prop.append(counts.at[i, 'Count'] / total_count)\n",
    "\n",
    "props['Proportion'] = rso_prop\n",
    "sns.barplot(x='Year', y='Proportion', hue='Type', data=props)"
   ]
  },
  {
   "cell_type": "code",
   "execution_count": null,
   "metadata": {},
   "outputs": [],
   "source": [
    "allocs = rso_data.groupby(['Year', 'Type']).sum().drop(columns=['Standing']).reset_index()\n",
    "\n",
    "plt.title('Allocations by RSO Type')\n",
    "sns.lineplot(x='Year', y='Allocation', hue='Type', data=allocs)"
   ]
  },
  {
   "cell_type": "code",
   "execution_count": null,
   "metadata": {},
   "outputs": [],
   "source": [
    "alloc_totals = allocs.groupby('Year').sum()\n",
    "alloc_props = allocs.copy(deep=True).rename(columns={'Allocation': 'Proportion'})\n",
    "alloc_prop = []\n",
    "\n",
    "for year in alloc_totals.index:\n",
    "    idx = allocs[allocs['Year'] == year].index\n",
    "    total_alloc = alloc_totals.loc[year, 'Allocation']\n",
    "    \n",
    "    for i in idx:\n",
    "        alloc_prop.append(allocs.at[i, 'Allocation'] / total_alloc)\n",
    "\n",
    "alloc_props['Proportion'] = alloc_prop\n",
    "alloc_props\n",
    "\n",
    "sns.barplot(x='Year', y='Proportion', hue='Type', data=alloc_props)"
   ]
  },
  {
   "cell_type": "code",
   "execution_count": null,
   "metadata": {},
   "outputs": [],
   "source": [
    "specific_counts = pd.DataFrame(rso_data.groupby(['Year', 'Designation']).size()).reset_index()\n",
    "specific_counts = specific_counts.rename(columns={0: 'Count'})\n",
    "\n",
    "plt.figure(figsize=(30,30))\n",
    "plt.title('Number of RSOs by Designation')\n",
    "sns.lineplot(x='Year', y='Count', hue='Designation', data=specific_counts)"
   ]
  },
  {
   "cell_type": "code",
   "execution_count": null,
   "metadata": {},
   "outputs": [],
   "source": [
    "specific_allocs = rso_data.groupby(['Year', 'Designation']).sum().drop(columns=['Standing']).reset_index()\n",
    "# specific_allocs['Allocation'] = normalize(specific_allocs['Allocation'].to_numpy().reshape(-1,1))\n",
    "plt.figure(figsize=(30,30))\n",
    "plt.title('Allocations for RSOs by Designation')\n",
    "plot = sns.lineplot(x='Year', y='Allocation', hue='Designation', data=specific_allocs)\n",
    "# save = plot.get_figure(\n",
    "# save.savefig('output.png')"
   ]
  },
  {
   "cell_type": "markdown",
   "metadata": {},
   "source": [
    "# Clustering"
   ]
  },
  {
   "cell_type": "code",
   "execution_count": null,
   "metadata": {},
   "outputs": [],
   "source": [
    "df_2018 = rso_data[rso_data['Year'] == 2018]\n",
    "df_dummies = pd.get_dummies(df_2018, columns=['Type', 'Designation'])\n",
    "\n",
    "X = df_dummies[['Standing', 'Allocation']]\n",
    "X.loc[:] = normalize(X.loc[:])\n",
    "\n",
    "k_vals = []\n",
    "inertias = []\n",
    "\n",
    "for i in np.arange(2, 11):\n",
    "    kmeans = KMeans(n_clusters=i)\n",
    "    kmeans.fit(X)\n",
    "    \n",
    "    k_vals.append(i)\n",
    "    inertias.append(kmeans.inertia_)\n",
    "    \n",
    "plt.plot(k_vals, inertias)"
   ]
  },
  {
   "cell_type": "code",
   "execution_count": null,
   "metadata": {},
   "outputs": [],
   "source": [
    "kmeans = KMeans(n_clusters=5)\n",
    "kmeans.fit(X)\n",
    "\n",
    "df_2018['label'] = kmeans.labels_\n",
    "\n",
    "plt.figure(figsize=(20,20))\n",
    "sns.scatterplot(data=df_2018, x='Standing', y='Allocation', hue='label')"
   ]
  },
  {
   "cell_type": "markdown",
   "metadata": {},
   "source": [
    "# Misc"
   ]
  },
  {
   "cell_type": "code",
   "execution_count": null,
   "metadata": {},
   "outputs": [],
   "source": [
    "rso_18 = rso_data[rso_data['Year'] == 2018]\n",
    "allocs_18 = rso_18.groupby('Designation').sum()[['Allocation']]\n",
    "clubs_18 = rso_18.groupby('Designation').count()[['Organization']]\n",
    "allocs_18['Allocation'] / clubs_18['Organization']\n",
    "# rso_18[rso_18['Designation'].str.contains('Ethnic')]"
   ]
  },
  {
   "cell_type": "code",
   "execution_count": null,
   "metadata": {},
   "outputs": [],
   "source": [
    "rso_data.loc[rso_data[rso_data['Year']==2019].groupby('Designation').Allocation.agg('idxmax')]"
   ]
  },
  {
   "cell_type": "code",
   "execution_count": null,
   "metadata": {},
   "outputs": [],
   "source": [
    "rso_data[(rso_data['Year']==2019) &\n",
    "         (rso_data['Designation']=='Political & Advocacy RSO')].sort_values('Allocation', ascending=False)"
   ]
  },
  {
   "cell_type": "code",
   "execution_count": null,
   "metadata": {},
   "outputs": [],
   "source": [
    "rso_data[rso_data['Year']==2017].sort_values('Allocation', ascending=False)\n",
    "\n",
    "# Cultural RSOs are awarded the most $$, it seems\n",
    "rso_data[rso_data['Organization']=='Korean American Student Association']"
   ]
  }
 ],
 "metadata": {
  "kernelspec": {
   "display_name": "Python 3",
   "language": "python",
   "name": "python3"
  },
  "language_info": {
   "codemirror_mode": {
    "name": "ipython",
    "version": 3
   },
   "file_extension": ".py",
   "mimetype": "text/x-python",
   "name": "python",
   "nbconvert_exporter": "python",
   "pygments_lexer": "ipython3",
   "version": "3.7.6"
  }
 },
 "nbformat": 4,
 "nbformat_minor": 4
}
