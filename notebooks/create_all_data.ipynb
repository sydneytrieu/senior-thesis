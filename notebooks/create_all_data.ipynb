{
 "cells": [
  {
   "cell_type": "code",
   "execution_count": 8,
   "metadata": {},
   "outputs": [],
   "source": [
    "import numpy as np\n",
    "import pandas as pd\n",
    "import re"
   ]
  },
  {
   "cell_type": "markdown",
   "metadata": {},
   "source": [
    "Read `.txt` files and convert them to pandas DataFrames by year."
   ]
  },
  {
   "cell_type": "code",
   "execution_count": 2,
   "metadata": {},
   "outputs": [],
   "source": [
    "# Data from 2012-2013\n",
    "df_2012 = pd.read_csv('data/reformatted/2012-2013.txt', delimiter='\\t', encoding='latin1')\n",
    "\n",
    "# Data from 2013-2014\n",
    "df_2013 = pd.read_csv('data/reformatted/2013-2014.txt', delimiter='\\t')\n",
    "\n",
    "# Data from 2014-2015\n",
    "df_2014 = pd.read_csv('data/reformatted/2014-2015.txt', delimiter='\\t')\n",
    "\n",
    "# Data from 2015-2016\n",
    "df_2015 = pd.read_csv('data/reformatted/2015-2016.txt', delimiter='\\t', encoding='latin1')\n",
    "\n",
    "# Data from 2016-2017\n",
    "df_2016 = pd.read_csv('data/reformatted/2016-2017.txt', delimiter='\\t').iloc[:, :3]\n",
    "\n",
    "# Data from 2017-2018\n",
    "df_2017 = pd.read_csv('data/reformatted/2017-2018.txt', delimiter='\\t').iloc[:, :4]\n",
    "\n",
    "# Data from 2018-2019\n",
    "df_2018 = pd.read_csv('data/reformatted/2018-2019.txt', delimiter='\\t', encoding='latin1')\n",
    "\n",
    "# Data from 2019-2020\n",
    "df_2019 = pd.read_csv('data/reformatted/2019-2020.txt', delimiter='\\t', encoding='latin1')\n",
    "\n",
    "# Data from 2020-2021\n",
    "df_2020 = pd.read_csv('data/reformatted/2020-2021.txt', delimiter='\\t', encoding='latin1')"
   ]
  },
  {
   "cell_type": "markdown",
   "metadata": {},
   "source": [
    "Extract `Organization`, `Type`, `Standing`, and `Allocation` from each DataFrame and rename the columns accordingly."
   ]
  },
  {
   "cell_type": "code",
   "execution_count": 3,
   "metadata": {},
   "outputs": [],
   "source": [
    "# Data from 2015-2016 and 2016-2017 have RSO type and standing listed under the\n",
    "# same column, 'TYPE (YEAR)'. The following functions extract each respective \n",
    "# feature in order to make two separate columns.\n",
    "\n",
    "# Extracts RSO standing.\n",
    "def extract_standing(label):\n",
    "    result = re.search(r'[0-9]+', str(label))\n",
    "    if result:\n",
    "        return result[0]\n",
    "\n",
    "# Extracts RSO type.    \n",
    "def clean_type(label):\n",
    "    if pd.notna(label):\n",
    "        return re.search(r'[A-Z]+', label)[0]"
   ]
  },
  {
   "cell_type": "code",
   "execution_count": 4,
   "metadata": {},
   "outputs": [],
   "source": [
    "df_2012 = df_2012.rename(columns={'Publications':'Organization'})\n",
    "df_2012 = df_2012[['Organization', 'Type', 'Standing', 'Allocation']]\n",
    "\n",
    "##############\n",
    "\n",
    "df_2013 = df_2013.rename(columns={'Publications':'Organization'})\n",
    "df_2013 = df_2013[['Organization', 'Type', 'Standing', 'Allocation']]\n",
    "\n",
    "##############\n",
    "\n",
    "df_2014 = df_2014.rename(columns={'PUBLICATIONS':'Organization', \n",
    "                                  'Years of Sponsorship': 'Standing', \n",
    "                                  'Final Allocation': 'Allocation'})\n",
    "df_2014 = df_2014[['Organization', 'Type', 'Standing', 'Allocation']]\n",
    "\n",
    "##############\n",
    "\n",
    "df_2015 = df_2015.rename(columns={'GROUP': 'Organization', \n",
    "                                 'TYPE (YEAR)': 'Type',\n",
    "                                 'FINAL ALLOCATION': 'Allocation'})\n",
    "\n",
    "df_2015.insert(2, 'Standing', np.NaN)\n",
    "df_2015['Standing'] = df_2015['Type'].apply(extract_standing)\n",
    "\n",
    "df_2015['Type'] = df_2015['Type'].apply(clean_type)\n",
    "\n",
    "df_2015 = df_2015[['Organization', 'Type', 'Standing', 'Allocation']]\n",
    "\n",
    "##############\n",
    "\n",
    "df_2016 = df_2016.rename(columns={'GROUPS': 'Organization', \n",
    "                                 'TYPE (YEAR)': 'Type',\n",
    "                                 'Proposal': 'Allocation'})\n",
    "\n",
    "df_2016.insert(2, 'Standing', np.NaN)\n",
    "df_2016['Standing'] = df_2016['Type'].apply(extract_standing)\n",
    "\n",
    "df_2016['Type'] = df_2016['Type'].apply(clean_type)\n",
    "\n",
    "df_2016 = df_2016[['Organization', 'Type', 'Standing', 'Allocation']]\n",
    "\n",
    "##############\n",
    "\n",
    "df_2017 = df_2017.rename(columns={'Sponsorship Category': 'Type',\n",
    "                                 'Year': 'Standing', \n",
    "                                 'Initial Allocation': 'Allocation'})\n",
    "\n",
    "##############\n",
    "\n",
    "df_2018 = df_2018[['Organization', 'Sponsorship Category','Years', 'Final Allocation']]\n",
    "df_2018 = df_2018.rename(columns={'Sponsorship Category': 'Type',\n",
    "                                 'Years': 'Standing', \n",
    "                                 'Final Allocation': 'Allocation'})\n",
    "\n",
    "##############\n",
    "\n",
    "df_2019 = df_2019[['Organization', 'Sponsorship Category', 'Years', 'Allocation']]\n",
    "df_2019 = df_2019.rename(columns={'Sponsorship Category': 'Type',\n",
    "                                 'Years': 'Standing'})\n",
    "\n",
    "##############\n",
    "\n",
    "df_2020 = df_2020[['Organization', 'Sponsorship Category', 'Years of Sponsorship', 'Allocation']]\n",
    "df_2020 = df_2020.rename(columns={'Sponsorship Category': 'Type',\n",
    "                                 'Years of Sponsorship': 'Standing'})"
   ]
  },
  {
   "cell_type": "markdown",
   "metadata": {},
   "source": [
    "Insert `Year` column to mark the budget year for each DataFrame."
   ]
  },
  {
   "cell_type": "code",
   "execution_count": 5,
   "metadata": {},
   "outputs": [],
   "source": [
    "df_2012.insert(0, 'Year', '2012')\n",
    "df_2013.insert(0, 'Year', '2013')\n",
    "df_2014.insert(0, 'Year', '2014')\n",
    "df_2015.insert(0, 'Year', '2015')\n",
    "df_2016.insert(0, 'Year', '2016')\n",
    "df_2017.insert(0, 'Year', '2017')\n",
    "df_2018.insert(0, 'Year', '2018')\n",
    "df_2019.insert(0, 'Year', '2019')\n",
    "df_2020.insert(0, 'Year', '2020')"
   ]
  },
  {
   "cell_type": "markdown",
   "metadata": {},
   "source": [
    "Compile all the DataFrames into one, `all_data`."
   ]
  },
  {
   "cell_type": "code",
   "execution_count": 6,
   "metadata": {},
   "outputs": [],
   "source": [
    "all_yrs = [df_2012, df_2013, df_2014, df_2015, df_2016, df_2017, df_2018, df_2019, df_2020]\n",
    "all_data = pd.concat(all_yrs, ignore_index=True, sort=False)"
   ]
  },
  {
   "cell_type": "markdown",
   "metadata": {},
   "source": [
    "Export `all_data` as a `.csv` file."
   ]
  },
  {
   "cell_type": "code",
   "execution_count": 7,
   "metadata": {},
   "outputs": [],
   "source": [
    "all_data.to_csv('all_data')"
   ]
  },
  {
   "cell_type": "code",
   "execution_count": null,
   "metadata": {},
   "outputs": [],
   "source": []
  }
 ],
 "metadata": {
  "kernelspec": {
   "display_name": "Python 3",
   "language": "python",
   "name": "python3"
  },
  "language_info": {
   "codemirror_mode": {
    "name": "ipython",
    "version": 3
   },
   "file_extension": ".py",
   "mimetype": "text/x-python",
   "name": "python",
   "nbconvert_exporter": "python",
   "pygments_lexer": "ipython3",
   "version": "3.8.6"
  }
 },
 "nbformat": 4,
 "nbformat_minor": 4
}
