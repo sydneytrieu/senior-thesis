{
 "cells": [
  {
   "cell_type": "code",
   "execution_count": 1,
   "metadata": {},
   "outputs": [
    {
     "name": "stdout",
     "output_type": "stream",
     "text": [
      "Requirement already satisfied: fuzzywuzzy[speedup] in c:\\users\\scher\\anaconda3\\lib\\site-packages (0.18.0)\n",
      "Requirement already satisfied: python-levenshtein>=0.12; extra == \"speedup\" in c:\\users\\scher\\anaconda3\\lib\\site-packages (from fuzzywuzzy[speedup]) (0.12.0)\n",
      "Requirement already satisfied: setuptools in c:\\users\\scher\\anaconda3\\lib\\site-packages (from python-levenshtein>=0.12; extra == \"speedup\"->fuzzywuzzy[speedup]) (45.2.0.post20200210)\n"
     ]
    }
   ],
   "source": [
    "import numpy as np\n",
    "import pandas as pd\n",
    "import re\n",
    "\n",
    "!pip install fuzzywuzzy[speedup]\n",
    "from fuzzywuzzy import fuzz, process"
   ]
  },
  {
   "cell_type": "markdown",
   "metadata": {},
   "source": [
    "# Load data"
   ]
  },
  {
   "cell_type": "code",
   "execution_count": null,
   "metadata": {},
   "outputs": [],
   "source": [
    "all_data = pd.read_csv('data\\\\archived\\\\all_data.csv')\n",
    "\n",
    "# Filters for RSOs, which have type 'PUB', 'SAG', or 'SISG'.\n",
    "rso_labels = ['PUB', 'SAG', 'SISG']\n",
    "rso_data = all_data[all_data['Type'].isin(rso_labels)].reset_index(drop=True)"
   ]
  },
  {
   "cell_type": "markdown",
   "metadata": {},
   "source": [
    "# Fix data types\n",
    "\n",
    "The first issue to address is the formatting in the `Allocation` column - particularly for the string values \"Sponsorship Only\" and \"Sponsorship only\"."
   ]
  },
  {
   "cell_type": "code",
   "execution_count": null,
   "metadata": {},
   "outputs": [],
   "source": [
    "# Filters for RSOs with sponsorships.\n",
    "sponsored_rso_data = rso_data[(rso_data['Allocation'] == 'Sponsorship Only') |\n",
    "                             (rso_data['Allocation'] == 'Sponsorship only')]\n",
    "\n",
    "# Filters for RSOs allocations of $0.\n",
    "unfunded_rso_data = rso_data[(rso_data['Allocation'] == '$0') |\n",
    "                             (rso_data['Allocation'] == '$0.00')]"
   ]
  },
  {
   "cell_type": "markdown",
   "metadata": {},
   "source": [
    "\"Sponsorship Only\" RSOs only appear in 2012, 2018, and 2019. Clubs allocated zero dollars only appear in 2013, 2014, 2015, 2016, and 2017, with the exception of four 2012 entries. Because the distributions of both categories are complementary, we can deduce that have similar meanings: While the clubs are still sponsored by the ASUC, they receive no funding from the ASUC. Thus, \"Sponsorship Only\" really means an allocation of $0."
   ]
  },
  {
   "cell_type": "code",
   "execution_count": null,
   "metadata": {},
   "outputs": [],
   "source": [
    "# Replace \"Sponsorship Only\" RSOs with $0 of funding to make it consistent with the other allocation values.\n",
    "rso_data.loc[:, 'Allocation'] = rso_data.loc[:, 'Allocation'].replace(['Sponsorship only', 'Sponsorship Only'], '$0')"
   ]
  },
  {
   "cell_type": "code",
   "execution_count": null,
   "metadata": {},
   "outputs": [],
   "source": [
    "# Remove '$' and ',' characters to convert the strings to float value.\n",
    "rso_data.loc[:, 'Allocation'] = rso_data.loc[:, 'Allocation'].str.replace('$', '')\n",
    "rso_data.loc[:, 'Allocation'] = rso_data.loc[:, 'Allocation'].str.replace(',', '')\n",
    "\n",
    "# The STARR Referendum is mentioned in the 2018-2019 allocations; we'll save the names of these groups for reference.\n",
    "rso_STARR = ['bridges Multicultural Resource Center',\n",
    "            'Indigenous and Native Coalition Recruitment and Retention Center',\n",
    "            'Middle Eastern North African Recruitment and Retention Center',\n",
    "            'Mixed Student Union',\n",
    "            'Pilipinx Academic Student Services',\n",
    "            'RaÌ_ces Recruitment and Retention Center (formerly Raza Recruitment and Retention Center)',\n",
    "            'REACH! Asian Pacific American Recruitment and Retention Center']\n",
    "\n",
    "# The following line confirms this information.\n",
    "rso_data[(rso_data['Year'] == '2018') & (rso_data['Organization'].isin(rso_STARR))]\n",
    "\n",
    "# Now back to cleaning the 'Allocations' column.\n",
    "def clean_allocation(alloc):\n",
    "    result = re.search(r'[0-9]+[.]*[0-9]*', alloc)\n",
    "    if result:\n",
    "        return result[0]\n",
    "\n",
    "rso_data.loc[:, 'Allocation'] = rso_data.loc[:, 'Allocation'].apply(clean_allocation)\n",
    "rso_data.loc[:, 'Allocation'] = rso_data.loc[:, 'Allocation'].astype(float)"
   ]
  },
  {
   "cell_type": "code",
   "execution_count": null,
   "metadata": {},
   "outputs": [],
   "source": [
    "# Convert 'Standing' from float to integer.\n",
    "rso_data[['Standing']] = rso_data[['Standing']].astype(int)"
   ]
  },
  {
   "cell_type": "markdown",
   "metadata": {},
   "source": [
    "# Clean CalLink designation data\n",
    "\n",
    "In order to ensure that RSO names are consistent across budget years, each RSO can be matched to their CalLink names. We'll start by cleaning the CalLink data, `callink_data.txt`."
   ]
  },
  {
   "cell_type": "code",
   "execution_count": null,
   "metadata": {},
   "outputs": [],
   "source": [
    "desig_data = pd.read_csv('data\\\\callink_data.txt')[['Organization', 'Designation']]"
   ]
  },
  {
   "cell_type": "code",
   "execution_count": null,
   "metadata": {},
   "outputs": [],
   "source": [
    "# When clubs don't add a profile picture to their CalLink page, they instead have a\n",
    "# circle with the first letter of their org. The following code will filter this out of\n",
    "# the webscraped names.\n",
    "def ws_name_cleaner(name):\n",
    "    return re.search(r'.\\n(.*)', name)[1]\n",
    "\n",
    "n_idx = desig_data[desig_data['Organization'].str.contains('\\n')].index\n",
    "desig_data.loc[n_idx, 'Organization'] = desig_data.loc[n_idx, 'Organization'].apply(ws_name_cleaner)"
   ]
  },
  {
   "cell_type": "code",
   "execution_count": null,
   "metadata": {},
   "outputs": [],
   "source": [
    "# Some campus departments also have asterisks around their organization names; filter those out.\n",
    "def ws_asterisk_cleaner(name):\n",
    "    result = re.search(r'\\*(.*)\\*', name)\n",
    "    if result != None:\n",
    "        return result[1]\n",
    "    return name\n",
    "\n",
    "desig_data['Organization'] = desig_data['Organization'].apply(ws_asterisk_cleaner)"
   ]
  },
  {
   "cell_type": "code",
   "execution_count": null,
   "metadata": {},
   "outputs": [],
   "source": [
    "# Now let's clean the designations. Each one has an extra space after the name, so that'll\n",
    "# be an easy fix.\n",
    "def del_space(name):\n",
    "    if name[-1] == ' ':\n",
    "        return name[:-1]\n",
    "    return name\n",
    "\n",
    "desig_data['Designation'] = desig_data['Designation'].apply(del_space)"
   ]
  },
  {
   "cell_type": "code",
   "execution_count": null,
   "metadata": {},
   "outputs": [],
   "source": [
    "# We can now look at all the designations.\n",
    "desig_count = desig_data.groupby('Designation').count().reset_index()\n",
    "desig_count"
   ]
  },
  {
   "cell_type": "code",
   "execution_count": null,
   "metadata": {},
   "outputs": [],
   "source": [
    "# A list of designations with more than 10 organizations is shown below. \n",
    "valid_desigs = desig_count[desig_count['Organization'] >= 10]['Designation']\n",
    "valid_desigs"
   ]
  },
  {
   "cell_type": "code",
   "execution_count": null,
   "metadata": {},
   "outputs": [],
   "source": [
    "# We can extract the typical RSO categories from them to create a list of \"regular designations\" for RSOs.\n",
    "# We'll ignore the other designations for now.\n",
    "reg_desigs = [i for i in valid_desigs if 'RSO' in i]\n",
    "reg_desigs"
   ]
  },
  {
   "cell_type": "code",
   "execution_count": null,
   "metadata": {},
   "outputs": [],
   "source": [
    "# To account for outliers / inconsistent designations, we'll make a list of all the designations \n",
    "# that have less than 10 organizations under that category for closer examination.\n",
    "odd_desigs = desig_count[desig_count['Organization'] < 10]\n",
    "odd_desigs \n",
    "\n",
    "# There are definitely naming overlaps! Time to fix those."
   ]
  },
  {
   "cell_type": "code",
   "execution_count": null,
   "metadata": {},
   "outputs": [],
   "source": [
    "# Editing the academic RSOs in 'odd_desigs'.\n",
    "academic = odd_desigs[odd_desigs['Designation'].str.contains('Academic')]['Designation']\n",
    "desig_data[desig_data['Designation'].isin(academic)]\n",
    "\n",
    "# While Der Kreis and Energy and Resources Grad Students seem academic, iGEM appears to be\n",
    "# more tech / project oriented. These orgs will be edited accordingly.\n",
    "desig_data.at[[498, 534], 'Designation'] = 'Academic RSO'\n",
    "desig_data.at[750, 'Designation'] = 'Technology RSO'\n",
    "\n",
    "# Editing the cultural RSOs.\n",
    "cultural = odd_desigs[odd_desigs['Designation'].str.contains('Cultural')]['Designation']\n",
    "desig_data[desig_data['Designation'].isin(cultural)]\n",
    "\n",
    "desig_data.at[745, 'Designation'] = 'Cultural & Identity/LGBTQ+ RSO'\n",
    "desig_data.at[[1384, 1387], 'Designation'] = 'Cultural & Identity/Women Interest RSO'\n",
    "\n",
    "# Environmental RSO.\n",
    "desig_data[desig_data['Designation'] == 'Environmental']\n",
    "desig_data.at[256, 'Designation'] = 'Environmental & Sustainability RSO'\n",
    "\n",
    "# Professional RSO.\n",
    "desig_data[desig_data['Designation'].str.contains('Professional RSO - ')]\n",
    "desig_data.at[427, 'Designation'] = 'Professional RSO'\n",
    "\n",
    "# Media RSO.\n",
    "desig_data[desig_data['Designation'] == 'Media RSO']\n",
    "desig_data.at[723, 'Designation'] = 'Media & Film RSO'\n",
    "\n",
    "# Performing arts RSO.\n",
    "desig_data[desig_data['Designation'] == 'Performing Arts']\n",
    "desig_data.at[297, 'Designation'] = 'Performing Arts RSO'\n",
    "\n",
    "# Political RSO.\n",
    "desig_data[(desig_data['Designation'].str.contains('Political'))\n",
    "          & (desig_data['Designation'] != 'Political & Advocacy RSO')]\n",
    "desig_data.at[[58, 1138], 'Designation'] = 'Political & Advocacy RSO'\n",
    "\n",
    "# Service RSO.\n",
    "desig_data[(desig_data['Designation'].str.contains('Service'))\n",
    "          & (desig_data['Designation'] != 'Service RSO')]\n",
    "desig_data.at[[359, 449, 505, 520, 881, 961], 'Designation'] = 'Service RSO'\n",
    "\n",
    "# Spiritual RSO.\n",
    "desig_data[(desig_data['Designation'].str.contains('Spiritual'))\n",
    "          & (desig_data['Designation'] != 'Spiritual RSO')]\n",
    "desig_data.at[[201, 335, 789], 'Designation'] = 'Spiritual RSO'\n",
    "\n",
    "# Sponsored RSO.\n",
    "desig_data[desig_data['Designation'].str.contains('Sponsored')]\n",
    "desig_data.at[[280, 306, 754, 904, 912, 1037, 1100, 1102], 'Designation'] = 'Sponsored RSO'\n",
    "\n",
    "# It doesn't seem like pages with no real designation are relevant to RSOs, but\n",
    "# let's unify the label.\n",
    "blank = ['Inactive Page', 'No Response']\n",
    "desig_data[desig_data['Designation'].isin(blank)]\n",
    "desig_data.at[[100, 642, 964], 'Designation'] = 'None'\n",
    "\n",
    "# Finally, we can extract RSO designations for future use. \n",
    "rso_desigs = desig_data[desig_data['Designation'].str.contains('RSO')]"
   ]
  },
  {
   "cell_type": "markdown",
   "metadata": {},
   "source": [
    "# Merge designations with `rso_data`"
   ]
  },
  {
   "cell_type": "code",
   "execution_count": null,
   "metadata": {},
   "outputs": [],
   "source": [
    "rso_data = pd.merge(rso_data, rso_desigs, how='left', on='Organization')\n",
    "\n",
    "rso_data['Designation'] = rso_data['Designation'].fillna('None')\n",
    "\n",
    "# Rearranges column order.\n",
    "cols = ['Year', 'Organization', 'Type', 'Designation', 'Standing', 'Allocation']\n",
    "rso_data = rso_data[cols]\n",
    "\n",
    "len(rso_data[rso_data['Designation'] == 'None'].index)"
   ]
  },
  {
   "cell_type": "markdown",
   "metadata": {},
   "source": [
    "# Edit abbreviated RSO names"
   ]
  },
  {
   "cell_type": "code",
   "execution_count": null,
   "metadata": {},
   "outputs": [],
   "source": [
    "# Here, we'll manually address and edit the names of particular organizations with abbreviations.\n",
    "# We generally want these edits to be consistent with 1) the group's most updated name, and\n",
    "# 2) the group's name on CalLink, the official hub for Berkeley clubs (although this excludes\n",
    "# former names of the club).\n",
    "\n",
    "# Berkeley Opinion seems that it doesn't usually go by BerkOp - defaulting to the full name.\n",
    "rso_data.loc[[827, 2176], 'Organization'] = 'Berkeley Opinion'\n",
    "rso_data[rso_data['Organization'].str.contains('Berkeley Opinion')]\n",
    "\n",
    "\n",
    "# OASES, while commonly known by the abbreviation, formally lists its organization under the\n",
    "# full name, 'Oakland Asian Students Education Services'. We'll leave it as is.\n",
    "rso_data[rso_data['Organization'].str.contains('Oakland Asian')]\n",
    "\n",
    "\n",
    "# Movimiento Estudiantil Chicano/xicana de Atzlan doesn't tyically go by its abberviation, MEChxA.\n",
    "rso_data.loc[[287,692], 'Organization'] = 'Movimiento Estudiantil Chicano/xicana de Atzlan'\n",
    "rso_data[rso_data['Organization'].str.contains('Estudiantil')]\n",
    "\n",
    "# Project SMILE has a pretty long official name.\n",
    "rso_data.at[[298, 708, 1127, 1567, 2057, 2533], 'Organization'] = 'Project Spreading Multiculturalism and Inspiring Leadership through Education'\n",
    "rso_data[rso_data['Organization'].str.contains('Project Spreading')]\n",
    "\n",
    "# Chicano(a)s/Latino(a)s in Health Education has some odd mistypes\n",
    "rso_data.loc[[261, 653, 1068, 2465], 'Organization'] = 'Chicano(a)s/Latino(a)s in Health Education'\n",
    "rso_data[rso_data['Organization'].str.contains('Health Education')]\n",
    "\n",
    "# Consult Your Community (CYC) at Berkeley\n",
    "rso_data.at[456, 'Organization'] = 'Consult Your Community (CYC) at Berkeley'\n",
    "rso_data[rso_data['Organization'].str.contains('CYC')]\n",
    "\n",
    "# FEM Tech\n",
    "rso_data.at[[1761, 2715], 'Organization'] = 'FEMTech'\n",
    "rso_data[rso_data['Organization'].str.contains('FEM')]\n",
    "\n",
    "# EGO\n",
    "rso_data.at[[110, 476, 882, 1291, 1750], 'Organization'] = 'EGO (Cal\\'s Traditional Korean Percussion Group)'\n",
    "rso_data[rso_data['Organization'].str.contains('EGO')]\n",
    "\n",
    "# iHeart\n",
    "rso_data[rso_data['Organization'].str.contains('iHeart')]\n",
    "\n",
    "# DULCE\n",
    "rso_data.at[[660, 2480], 'Organization'] = 'DULCE (Diabetes: Unidos Lograremos Controlar Esta Enfermedad)'\n",
    "rso_data[rso_data['Organization'].str.contains('DULCE')]\n",
    "\n",
    "# Cal Literature and Arts Magazine\n",
    "rso_data.at[[10, 762, 1181, 1623, 2112, 3022], 'Organization'] = 'Cal Literature & Arts Magazine'\n",
    "rso_data[rso_data['Organization'].str.contains('Cal Literature')]\n",
    "\n",
    "# Institute of Transportation Engineers at Berkeley\n",
    "rso_data.at[[141, 429], 'Organization'] = 'Institute of Transportation Engineers at Berkeley'\n",
    "rso_data[rso_data['Organization'].str.contains('Transportation Engineers')]\n",
    "\n",
    "# Sigma Iota Rho\n",
    "rso_data.at[1409, 'Organization'] = 'Sigma Iota Rho: International & Area Studies Honor Society'\n",
    "rso_data[rso_data['Organization'].str.contains('Sigma Iota')]\n",
    "\n",
    "# Fixes weird character errors for Raíces\n",
    "rso_data.loc[3394, 'Organization'] = 'Raíces Recruitment and Retention Center'"
   ]
  },
  {
   "cell_type": "markdown",
   "metadata": {},
   "source": [
    "# Match RSOs without a designation\n",
    "\n",
    "The following functions use the `fuzzywuzzy` package to match RSOs without a designation to similarly named organization in `rso_desigs`. If the match is authenticated by the user, then the RSO name is replaced with its CalLink counterpart and assigned its designation."
   ]
  },
  {
   "cell_type": "code",
   "execution_count": null,
   "metadata": {},
   "outputs": [],
   "source": [
    "# Helper functions for the main function, desig_assigner.\n",
    "\n",
    "# Sifts through the possible designations before manually selecting a match. All decisions must be approved by the user.\n",
    "def desig_selector(potential_desigs):\n",
    "    for i in potential_desigs:\n",
    "        print(i[0])\n",
    "        auth = input('y/n?: ')\n",
    "\n",
    "        if auth == 'y':\n",
    "            return i\n",
    "            \n",
    "# Cleans and relabels names according to CalLink, as well as assigns designations.\n",
    "def clean_name_desigs(rso_data, rso_desigs, org_idx, desig):\n",
    "    org_name = rso_data['Organization'][org_idx]\n",
    "    \n",
    "    callink_name = desig[0]\n",
    "    desig_idx = desig[2]\n",
    "    designation = rso_desigs.at[desig_idx, 'Designation']\n",
    "    \n",
    "    if callink_name != org_name:\n",
    "        rso_data.at[org_idx, 'Organization'] = callink_name\n",
    "                    \n",
    "        org_idxs = rso_data[rso_data['Organization'] == callink_name].index               \n",
    "        rso_data.at[org_idxs, 'Designation'] = designation"
   ]
  },
  {
   "cell_type": "code",
   "execution_count": null,
   "metadata": {},
   "outputs": [],
   "source": [
    "# Main function for assigning designations.\n",
    "def desig_assigner(rso_data, rso_desigs):\n",
    "    data = rso_data[(rso_data['Designation'] == 'None')]\n",
    "    manual_fixes = []\n",
    "    \n",
    "    for i in data.index:\n",
    "        org = data['Organization'][i]\n",
    "        \n",
    "        print('Organization Name: ' + org + '\\n' + '----------')\n",
    "        print('Desig check:')\n",
    "        \n",
    "        potential_desig = process.extract(org, rso_desigs['Organization'], limit=2)\n",
    "        desig = desig_selector(potential_desig)\n",
    "\n",
    "        if desig != None:\n",
    "            clean_name_desigs(rso_data, rso_desigs, i, desig)\n",
    "            \n",
    "        print('---------')"
   ]
  },
  {
   "cell_type": "code",
   "execution_count": null,
   "metadata": {},
   "outputs": [],
   "source": [
    "desig_assigner(rso_data, rso_desigs)"
   ]
  },
  {
   "cell_type": "markdown",
   "metadata": {},
   "source": [
    "# Assign designations manually (section to be cleaned)\n",
    "\n",
    "Unfortunately, many designations are still missing in `rso_data`. They'll have to be manually inputted based on extensively searching CalLink."
   ]
  },
  {
   "cell_type": "code",
   "execution_count": null,
   "metadata": {},
   "outputs": [],
   "source": [
    "# 'Female Empowerment and Mentoring in Technology', 'Berkeley Formula Racing', '0 Comedy', 'smART'\n",
    "\n",
    "# rso_data_2020[rso_data_2020['Organization'].str.contains('Women and Youth')]\n",
    "\n",
    "# rso_data_2020.at[27, 'Organization'] = '3DMC'\n",
    "# rso_data_2020.at[299, 'Designation'] = 'Arts RSO'\n",
    "\n",
    "# test = pd.concat([rso_data, rso_data_2020])\n",
    "# test[test['Organization'].str.contains('0')]\n",
    "\n",
    "# rso_data = pd.concat([rso_data, rso_data_2020]).reset_index(drop=True)\n",
    "# rso_data[rso_data['Organization'].str.contains('Hyperloop')]\n",
    "rso_data_2020"
   ]
  },
  {
   "cell_type": "code",
   "execution_count": null,
   "metadata": {},
   "outputs": [],
   "source": [
    "# Import our modified rso_data.\n",
    "\n",
    "rso_data = pd.read_csv('data\\\\archived\\\\rso_data.txt')\n",
    "rso_data = rso_data[['Year', 'Organization', 'Type', 'Designation', 'Standing', 'Allocation']]"
   ]
  },
  {
   "cell_type": "code",
   "execution_count": null,
   "metadata": {},
   "outputs": [],
   "source": [
    "not_rso = ['Sigma Pi Alpha', 'Public Service Internships', 'Omega Phi Beta', 'Multi-Cultural Greek Council',\n",
    "           'Lambda Theta Phi', 'Lambda Theta Nu', 'Lambda Theta Alpha', 'Delta Xi Phi', 'Gamma Rho Lambda',\n",
    "           'Gamma Zeta Alpha', 'Greening the Greeks', 'Delta Sigma Theta', 'Alpha Phi Alpha', 'Alpha Kappa Alpha', \n",
    "           'Sigma Epsilon Omega', 'Sigma Omicron Pi', 'Sigma Psi Zeta']\n",
    "\n",
    "re_not_rso = 'Sigma Pi Alpha|Public Service Internships|Omega Phi Beta|Multi-Cultural Greek Council|Lambda Theta Phi|Lambda Theta Nu|Lambda Theta Alpha|Delta Xi Phi|[G|g]amma [R|r]ho [L|l]ambda|Gamma Zeta Alpha|Greening [t|T]he Greeks|Delta Sigma Theta|Alpha Phi Alpha|Alpha Kappa Alpha|Sigma Epsilon Omega|Sigma Omicron Pi|Sigma Psi Zeta|Sigma Gamma Rho|UC Berkeley Public Service Center|National Pan-Hellenic|Democratic Education|CalGreeks|CalGreek|Lambda Upsilon Lambda|Phi Beta Sigma|Phi Sigma Rho|Order of Omega|CalTV|Open Computing Facility|Iota Phi Theta|Cal Corps|Sigma Omicron Pi|Alpha Kappa Lambda|Alpha Sigma Nu'\n",
    "\n",
    "rso_data[(rso_data['Designation'] == 'None') & (~rso_data['Organization'].str.contains(re_not_rso))]\n",
    "# rso_data[(rso_data['Standing'] == 15) & (rso_data['Year'] == 2017)]\n"
   ]
  },
  {
   "cell_type": "code",
   "execution_count": null,
   "metadata": {},
   "outputs": [],
   "source": [
    "# The following RSOs were unsearchable and were assigned designations based on educated inferences.\n",
    "#'Golden Paw Productions', 'California Patriot', 'Take Back the Night', 'Save a Refugee',\n",
    "# 'Disabled Students' Union', 'American Parliamentary Debate Society of Berkeley', 'Raza Caucus', 'Project Nutrition'\n",
    "# 'Berkeley City College Service Community', 'Students for Liberty', 'Delta Sigma Pi', 'Stop the Traffick',\n",
    "# 'Students for Integrative Medicine', 'Students Against Fracking', 'Malaria No More', 'League of Legends at Berkeley',\n",
    "# 'Health in All Policies', 'Cal Set Design', 'Black Political Law Association',\n",
    "# 'Camp WOW (Week of Wilderness)', 'Cal Facilitation Team', 'Understanding Physics', 'UC Berkeley Men's Ice Hockey',\n",
    "# 'Student Human Resources Association', 'Student Commuters at Cal', 'Speech and Debate at Berkeley', \n",
    "# 'ProActive Wellness', 'American Marketing Association', 'Korean Student Organizations', 'Investment Banking Club',\n",
    "# 'Eritrean Student Association', 'Chinese Instrumental Society', 'Blues at Berkeley', 'Bengali Students Association',\n",
    "# 'Cal Health Coalition', 'Human Journal at Berkeley', 'Kappa Alpha Delta', 'Fitness at Berkeley',\n",
    "# 'Mechanism of Feeling', 'Big Ideas@Berkeley', 'United Pre-Health Peers', 'Escape the Lights Social Club',\n",
    "# 'Career Attainment in Responsible Enterprises', 'Engineering Innovation & Consulting', 'Berkeley Energy',\n",
    "# 'Alumni of Ecole Polytechnique at Berkeley', 'Cal Scholars Chapter', 'Freshman Sophomore Entrepreneurial Society'\n",
    "# 'Mak', 'International Student Fellowship', 'Multi-Ethnic Student House'\n",
    "\n",
    "rso_data[(rso_data['Organization'].str.contains('International Student'))]\n",
    "# idx = rso_data[(rso_data['Organization'].str.contains('Latinx Architecture'))].index\n",
    "\n",
    "rso_data.at[1693, 'Organization'] = 'Berkeley Hyperloop'\n",
    "# rso_data.at[502, 'Designation'] = 'Cultural & Identity/International RSO'\n",
    "\n",
    "\n",
    "# rso_data[(rso_data['Designation'].str.contains('LGBTQ'))]\n",
    "\n",
    "# rso_data.iloc[652]\n",
    "# rso_data['Designation'].unique()"
   ]
  },
  {
   "cell_type": "code",
   "execution_count": null,
   "metadata": {},
   "outputs": [],
   "source": [
    "old_rso_data[old_rso_data['Organization'].str.contains('Ethiopian')]\n",
    "# old_rso_data.iloc[876]"
   ]
  },
  {
   "cell_type": "code",
   "execution_count": null,
   "metadata": {},
   "outputs": [],
   "source": [
    "rso_data.to_csv('data\\\\archived\\\\rso_data.txt')"
   ]
  },
  {
   "cell_type": "code",
   "execution_count": null,
   "metadata": {},
   "outputs": [],
   "source": [
    "# 1938, 1939; 'Volunteers Around the World'; 'Cal Bhangra' 1772, 1773; 'Berkeley Energy' 1679; 1816, 1817; \n",
    "# 'Women in Economics' 1938, 1939; 'Fitness at Berkeley'; 'Dreamers Project Mentorship Program' 2478, 2479;\n",
    "# 'Surf Team' 1911, 1912; 'Foodino'; 'Model United Nations' 2172, 2410; BareAbundance/Feeding Forward; \n",
    "# 'Korean- American Scientists' 1810, 1811; 3341\n",
    "\n",
    "\n",
    "rso_data = rso_data[~rso_data['Organization'].str.contains(re_not_rso)]\n",
    "# rso_data = rso_data.drop([1938, 1686, 1773, 1816, 2478, 1911, 1810, 628])\n",
    "rso_data[rso_data['Designation'] == 'None']\n",
    "# rso_data.loc[3341]\n",
    "# rso_data.at[2172, 'Organization'] = 'Berkeley Model United Nations Conference'\n",
    "# rso_data[rso_data['Organization'].str.contains('Feeding F')]"
   ]
  },
  {
   "cell_type": "code",
   "execution_count": null,
   "metadata": {},
   "outputs": [],
   "source": [
    "name_changes = rso_data[rso_data['Organization'].str.contains('former|Former|formely', regex=True)]\n",
    "name_idx = name_changes.index"
   ]
  },
  {
   "cell_type": "code",
   "execution_count": null,
   "metadata": {},
   "outputs": [],
   "source": [
    "name_dict = {'Collegiate StarLeague at Berkeley': 'eSports at Berkeley', \n",
    "               'Asian American Health Society': 'Pre-Health Society',\n",
    "               'International Association of Business Communicators': 'Berkeley Business Society',\n",
    "               'Conscious Living Collective': 'Conscious Network',\n",
    "               'Ethiopian Student Union': 'Horn of Africa Student Association',\n",
    "               'Global Medical Brigades': 'Global Health Brigades',\n",
    "               'Project Nutrition': 'Picknic',\n",
    "               'Square Up': 'Golden Squares',\n",
    "               'Italian International Student Association': 'Italian Society at Berkeley',\n",
    "               'Al-Bayan': 'threads',\n",
    "               'STOP the Traffick': 'Anti-Trafficking Coalition at Berkeley',\n",
    "               'Stop the Traffick': 'Anti-Trafficking Coalition at Berkeley',\n",
    "               'SIFE': 'Enactus of Berkeley',\n",
    "               'Autism Speaks U at Berkeley': 'Spectrum: Autism at Cal',\n",
    "               'Creative Marketing Group': 'CMG Strategy Consulting',\n",
    "               'Californium Brewing and Winemaking': 'Ferments at Berkeley',\n",
    "               'Juggers of the Seven Regents': 'Jugger at Berkeley',\n",
    "               'Latino Pre-Law Society': 'Latinx Pre-Law Society',\n",
    "               'Undergraduate Statistics Association': 'Statistics Undergraduate Students Association',\n",
    "               'Undergraduate Statistics Association at Berkeley': 'Statistics Undergraduate Students Association',\n",
    "               'Berkeley Disaster Response Team': 'Berkeley Disaster Team',\n",
    "               'Raza Recruitment and Retention Center': 'Raíces Recruitment and Retention Center',\n",
    "               'Raza Recruitment & Retention Center': 'Raíces Recruitment and Retention Center',\n",
    "               'True Asian Leaders': 'Thrive Aspire Lead',\n",
    "               'Krása Cosmetics Team': 'Aurum Cosmetics',\n",
    "               '100 College Black Men, Berkeley Campus': 'Collegiate 100',\n",
    "               'EPOCH': 'Product Development at Berkeley'\n",
    "              }"
   ]
  },
  {
   "cell_type": "code",
   "execution_count": null,
   "metadata": {},
   "outputs": [],
   "source": [
    "# Jugger at Berkeley (@ idx 2751) has is missing parentheses and is fixed below.\n",
    "\n",
    "rso_data.at[2751, 'Organization'] = 'Jugger at Berkeley (formerly known as Juggers of the Seven Regents)'"
   ]
  },
  {
   "cell_type": "code",
   "execution_count": null,
   "metadata": {},
   "outputs": [],
   "source": [
    "# Some test cases for clean_name.\n",
    "\n",
    "a = 'asian american [formerly balh blah]'\n",
    "b = 'threads (formerly known as Al-Bayan)'\n",
    "c = 'Spectrum: Autism at Cal (Formerly known as Autism Speaks U at Berkeley) (Spectrum)'\n",
    "e = 'Jugger at Berkeley formerly known as Juggers of the Seven Regents'\n",
    "f = 'Enactus of Berkeley (formely SIFE)'\n",
    "g = 'Engineering Student Council (formerly Engineer\\'s Joint Council)'\n",
    "h = 'Berkeley Business Society (formerly International Association of Business Comm'\n",
    "\n",
    "clean_name(f)"
   ]
  },
  {
   "cell_type": "code",
   "execution_count": null,
   "metadata": {},
   "outputs": [],
   "source": [
    "# Filter out former naming tags.\n",
    "\n",
    "rso_data.loc[name_idx, 'Organization'] = rso_data.loc[name_idx, 'Organization'].apply(clean_name)"
   ]
  },
  {
   "cell_type": "code",
   "execution_count": null,
   "metadata": {},
   "outputs": [],
   "source": [
    "# Apply name changes with name_dict.\n",
    "\n",
    "def change_name(name):\n",
    "    if name in name_dict:\n",
    "        return name_dict[name]\n",
    "    return name\n",
    "\n",
    "rso_data.loc[:, 'Organization'] = rso_data.loc[:, 'Organization'].apply(change_name)"
   ]
  },
  {
   "cell_type": "code",
   "execution_count": null,
   "metadata": {},
   "outputs": [],
   "source": [
    "# Many RSOs also have abbreviations or alternative names.\n",
    "\n",
    "shorthand = rso_data[rso_data['Organization'].str.contains('\\(.*\\)', regex=True)]\n",
    "\n",
    "# It seems like there are inconsistencies with whether the groups go by the abbreviation or \n",
    "# the full name of the group. So we'll just have to cross-reference how the groups brand themselves\n",
    "# over time and go with the most frequent use."
   ]
  },
  {
   "cell_type": "code",
   "execution_count": null,
   "metadata": {},
   "outputs": [],
   "source": [
    "# # It seems that there are currently 1746 entries in the data that have no designation.\n",
    "# # Time to fix that. We'll start by year and go backwards.\n",
    "\n",
    "# unsure = rso_data.at[[3026, 3028], 'Organization']\n",
    "\n",
    "# rso_data.at[3020, 'Organization'] = 'BerkTown Buzz'\n",
    "# rso_data.at[[759, 3021], 'Organization'] = 'Blue and Gold Yearbook'\n",
    "# rso_data.at[3027, 'Organization'] = 'Intercollegiate Finance Journal at Berkeley'\n",
    "\n",
    "\n",
    "# # rso_data[rso_data['Organization'].str.contains('Latin')]\n",
    "# # rso_desigs[rso_desigs['Organization'].str.contains('US')]\n",
    "\n",
    "rso_data[(rso_data['Designation'] == 'None') & (rso_data['Year'] == '2019')]"
   ]
  },
  {
   "cell_type": "code",
   "execution_count": null,
   "metadata": {},
   "outputs": [],
   "source": [
    "# What about groups that absorb smaller groups?\n",
    "\n",
    "anti_trafficking = ['Anti-Trafficking Coalition at Berkeley',\n",
    "                    'Student Abolitionist Movement',\n",
    "                    'International Justice Mission',\n",
    "                    'International Justice Mission Campus Chapter at Berkeley'\n",
    "                   ]\n",
    "\n",
    "bridges = []\n",
    "\n",
    "sustainable_housing_at_california = ['Tiny House in My Backyard', 'Solar Decathlon']\n",
    "# Or groups that split up?\n",
    "\n",
    "speech_and_debate = ['Speech at Berkeley', 'Parliamentary Debate at Berkeley']\n",
    "\n",
    "# Groups that are now funded by the ASUC(?)\n",
    "\n",
    "decal = rso_data[rso_data['Organization'].str.contains('DeCal')]\n",
    "\n",
    "Somali, Ethiopian, Eritrean, South Sudanese, Sudanese Association (SEE§A) (formerly as Horn of Africa Student Association - HASA)"
   ]
  },
  {
   "cell_type": "code",
   "execution_count": null,
   "metadata": {},
   "outputs": [],
   "source": [
    "Phi Gamma Nu\n",
    "KASA"
   ]
  },
  {
   "cell_type": "code",
   "execution_count": null,
   "metadata": {},
   "outputs": [],
   "source": [
    "# Removes 'formerly' tags from RSO names.\n",
    "\n",
    "def clean_name(name):\n",
    "    return re.search(r'(.*) [[(][Ff]or', name)[1]\n",
    "\n",
    "def clean_the(name):\n",
    "    return 'The ' + re.search(r'(.*), The', name)[1]"
   ]
  },
  {
   "cell_type": "code",
   "execution_count": null,
   "metadata": {},
   "outputs": [],
   "source": [
    "# formers_idx = rso_data[rso_data['Organization'].str.contains('[\\(\\[][Ff]or', regex=True)].index\n",
    "# rso_data.loc[formers_idx, 'Organization'] = rso_data.loc[formers_idx, 'Organization'].apply(clean_name)\n",
    "\n",
    "# the_idx = rso_data[(rso_data['Organization'].str.contains(', The')) & \n",
    "#          (~rso_data['Organization'].str.contains('Rishi|Therapists'))].index\n",
    "\n",
    "# rso_data.loc[the_idx, 'Organization'] = rso_data.loc[the_idx, 'Organization'].apply(clean_the)\n",
    "rso_data"
   ]
  },
  {
   "cell_type": "code",
   "execution_count": null,
   "metadata": {},
   "outputs": [],
   "source": [
    "consistent = rso_data.groupby(['Organization']).count()\n",
    "consistent = consistent[consistent['Year'] == 4].sort_values('Year')\n",
    "#consistent.index\n",
    "\n",
    "#rso_data[(rso_data['Organization'].isin(consistent.index)) & (rso_data['Standing'] == 1)]\n",
    "rso_data[(rso_data['Standing'] == 0) & (rso_data['Allocation'] != 0)]\n",
    "rso_data[rso_data['Organization'] == 'Anthropology Undergraduate Association']\n",
    "\n",
    "#rso_data[(rso_data['Standing'] == 1) & (rso_data['Year'] == '2016')]\n",
    "#rso_data[rso_data['Organization'] == 'Cal Queer & Asian']\n",
    "\n",
    "zero_standing = rso_data[rso_data['Standing'] == 0]['Organization']\n",
    "zero_std_overall = rso_data[rso_data['Organization'].isin(zero_standing)].sort_values(['Organization', 'Year'])\n",
    "zero_std_overall"
   ]
  },
  {
   "cell_type": "markdown",
   "metadata": {},
   "source": [
    "# Drop duplicates"
   ]
  },
  {
   "cell_type": "code",
   "execution_count": 5,
   "metadata": {},
   "outputs": [],
   "source": [
    "rso_data = pd.read_csv('data\\\\archived\\\\rso_data.txt', index_col=0)"
   ]
  },
  {
   "cell_type": "code",
   "execution_count": 10,
   "metadata": {},
   "outputs": [],
   "source": [
    "rso_data = rso_data.drop_duplicates()"
   ]
  },
  {
   "cell_type": "code",
   "execution_count": 11,
   "metadata": {},
   "outputs": [],
   "source": [
    "rso_data.to_csv('data\\\\archived\\\\rso_data.txt')"
   ]
  },
  {
   "cell_type": "markdown",
   "metadata": {},
   "source": [
    "# Clean `Standing`"
   ]
  },
  {
   "cell_type": "markdown",
   "metadata": {},
   "source": [
    "Only the 2016-2017 budget year has clubs with 0 `Standing`; these clubs are presumably new clubs. This is inconsistent with `Standing` in other years, however, where new RSOs begin with a standing of 1."
   ]
  },
  {
   "cell_type": "code",
   "execution_count": 14,
   "metadata": {},
   "outputs": [],
   "source": [
    "rso_data = pd.read_csv('data\\\\archived\\\\rso_data.txt', index_col=0)"
   ]
  },
  {
   "cell_type": "code",
   "execution_count": 17,
   "metadata": {},
   "outputs": [],
   "source": [
    "# Create list of RSOs that had a standing of 0 in 2016. \n",
    "zero_standing_rsos = rso_data[rso_data['Standing']==0]['Organization'].to_numpy()"
   ]
  },
  {
   "cell_type": "markdown",
   "metadata": {},
   "source": [
    "Because of complicated ASUC rules about legacy names, I've decided to only adjust `Standing` for 0 values and for budget years/standings that increase sequentially."
   ]
  },
  {
   "cell_type": "code",
   "execution_count": 31,
   "metadata": {},
   "outputs": [],
   "source": [
    "# Edits standing for organizations affected by having 0 standing in 2016.\n",
    "def fix_standing(row, zero_standing_rsos):\n",
    "    year = row['Year']\n",
    "    organization = row['Organization']\n",
    "    standing = row['Standing']\n",
    "    \n",
    "    if organization in zero_standing_rsos:\n",
    "        if year == 2016 and standing == 0:\n",
    "            return 1\n",
    "        if year == 2017 and standing == 1:\n",
    "            return 2\n",
    "        if year == 2018 and standing == 2:\n",
    "            return 3\n",
    "        if year == 2019 and standing == 3:\n",
    "            return 4\n",
    "        if year == 2020 and standing == 4:\n",
    "            return 5\n",
    "    \n",
    "    return standing"
   ]
  },
  {
   "cell_type": "code",
   "execution_count": 32,
   "metadata": {},
   "outputs": [],
   "source": [
    "rso_data['Standing'] = rso_data.apply(lambda r: fix_standing(r, zero_standing_rsos), axis=1)"
   ]
  },
  {
   "cell_type": "code",
   "execution_count": 35,
   "metadata": {},
   "outputs": [],
   "source": [
    "# Save a new version of rso_data to distinguish edits to `Standing`.\n",
    "rso_data.to_csv('data\\\\rso_data_v2.txt')"
   ]
  },
  {
   "cell_type": "code",
   "execution_count": null,
   "metadata": {},
   "outputs": [],
   "source": []
  }
 ],
 "metadata": {
  "kernelspec": {
   "display_name": "Python 3",
   "language": "python",
   "name": "python3"
  },
  "language_info": {
   "codemirror_mode": {
    "name": "ipython",
    "version": 3
   },
   "file_extension": ".py",
   "mimetype": "text/x-python",
   "name": "python",
   "nbconvert_exporter": "python",
   "pygments_lexer": "ipython3",
   "version": "3.7.6"
  }
 },
 "nbformat": 4,
 "nbformat_minor": 4
}
